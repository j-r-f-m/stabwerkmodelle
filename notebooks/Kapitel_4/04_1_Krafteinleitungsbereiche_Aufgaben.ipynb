{
 "cells": [
  {
   "cell_type": "markdown",
   "metadata": {},
   "source": [
    "# Kapitel 4 - Krafteinleitungsbereiche Aufgaben"
   ]
  },
  {
   "cell_type": "code",
   "execution_count": 6,
   "metadata": {},
   "outputs": [],
   "source": [
    "# Input\n",
    "a_lager = 20 # cm\n",
    "\n"
   ]
  },
  {
   "cell_type": "code",
   "execution_count": 9,
   "metadata": {},
   "outputs": [
    {
     "name": "stdout",
     "output_type": "stream",
     "text": [
      "['c:\\\\Users\\\\donut\\\\programming\\\\python_projects\\\\stabwerkmodelle\\\\notebooks\\\\Kapitel_4', 'c:\\\\Users\\\\donut\\\\anaconda3\\\\python37.zip', 'c:\\\\Users\\\\donut\\\\anaconda3\\\\DLLs', 'c:\\\\Users\\\\donut\\\\anaconda3\\\\lib', 'c:\\\\Users\\\\donut\\\\anaconda3', '', 'c:\\\\Users\\\\donut\\\\anaconda3\\\\lib\\\\site-packages', 'c:\\\\Users\\\\donut\\\\anaconda3\\\\lib\\\\site-packages\\\\win32', 'c:\\\\Users\\\\donut\\\\anaconda3\\\\lib\\\\site-packages\\\\win32\\\\lib', 'c:\\\\Users\\\\donut\\\\anaconda3\\\\lib\\\\site-packages\\\\Pythonwin', 'c:\\\\Users\\\\donut\\\\anaconda3\\\\lib\\\\site-packages\\\\IPython\\\\extensions', 'C:\\\\Users\\\\donut\\\\.ipython', '\\\\Users\\\\donut\\\\240324_Tragwerksplanung\\\\240324_massivbau\\\\240324_Stabwerke\\\\240324_notebooks', 'c:\\\\Users\\\\donut\\\\programming\\\\python_projects\\\\stabwerkmodelle\\\\src\\\\mats_beton\\\\', 'c:\\\\Users\\\\donut\\\\programming\\\\python_projects\\\\stabwerkmodelle\\\\src\\\\mats_beton\\\\', 'c:\\\\Users\\\\donut\\\\programming\\\\python_projects\\\\stabwerkmodelle\\\\src\\\\mats_beton\\\\', 'c:\\\\Users\\\\donut\\\\programming\\\\python_projects\\\\stabwerkmodelle\\\\src\\\\mats_beton.py']\n"
     ]
    },
    {
     "ename": "ModuleNotFoundError",
     "evalue": "No module named 'mats_beton'",
     "output_type": "error",
     "traceback": [
      "\u001b[1;31m---------------------------------------------------------------------------\u001b[0m",
      "\u001b[1;31mModuleNotFoundError\u001b[0m                       Traceback (most recent call last)",
      "\u001b[1;32m~\\AppData\\Local\\Temp/ipykernel_15780/2248262384.py\u001b[0m in \u001b[0;36m<module>\u001b[1;34m\u001b[0m\n\u001b[0;32m      6\u001b[0m \u001b[0msys\u001b[0m\u001b[1;33m.\u001b[0m\u001b[0mpath\u001b[0m\u001b[1;33m.\u001b[0m\u001b[0mappend\u001b[0m\u001b[1;33m(\u001b[0m\u001b[1;34m'c:\\\\Users\\\\donut\\\\programming\\\\python_projects\\\\stabwerkmodelle\\\\src\\\\stabwerkmodelle\\\\mats_beton.py'\u001b[0m\u001b[1;33m)\u001b[0m\u001b[1;33m\u001b[0m\u001b[1;33m\u001b[0m\u001b[0m\n\u001b[0;32m      7\u001b[0m \u001b[1;31m# import wanted module\u001b[0m\u001b[1;33m\u001b[0m\u001b[1;33m\u001b[0m\u001b[1;33m\u001b[0m\u001b[0m\n\u001b[1;32m----> 8\u001b[1;33m \u001b[1;32mimport\u001b[0m \u001b[0mmats_beton\u001b[0m\u001b[1;33m\u001b[0m\u001b[1;33m\u001b[0m\u001b[0m\n\u001b[0m\u001b[0;32m      9\u001b[0m \u001b[1;33m\u001b[0m\u001b[0m\n\u001b[0;32m     10\u001b[0m \u001b[0mx\u001b[0m \u001b[1;33m=\u001b[0m \u001b[0mmats_beton\u001b[0m\u001b[1;33m.\u001b[0m\u001b[0mf_cd\u001b[0m\u001b[1;33m(\u001b[0m\u001b[1;36m0.85\u001b[0m\u001b[1;33m,\u001b[0m\u001b[1;36m30\u001b[0m\u001b[1;33m,\u001b[0m \u001b[1;36m1.5\u001b[0m\u001b[1;33m)\u001b[0m\u001b[1;33m\u001b[0m\u001b[1;33m\u001b[0m\u001b[0m\n",
      "\u001b[1;31mModuleNotFoundError\u001b[0m: No module named 'mats_beton'"
     ]
    }
   ],
   "source": [
    "# test\n",
    "import sys\n",
    "# get current location\n",
    "print(sys.path)\n",
    "# add location of the module\n",
    "sys.path.append('c:\\\\Users\\\\donut\\\\programming\\\\python_projects\\\\stabwerkmodelle\\\\src\\\\stabwerkmodelle\\\\mats_beton.py')\n",
    "# import wanted module\n",
    "import mats_beton\n",
    "\n",
    "x = mats_beton.f_cd(0.85,30, 1.5)\n",
    "\n",
    "y = mats_beton.hello()\n"
   ]
  },
  {
   "cell_type": "code",
   "execution_count": null,
   "metadata": {},
   "outputs": [],
   "source": [
    "import sys\n",
    "\n",
    "print(sys.path)"
   ]
  }
 ],
 "metadata": {
  "kernelspec": {
   "display_name": "base",
   "language": "python",
   "name": "python3"
  },
  "language_info": {
   "codemirror_mode": {
    "name": "ipython",
    "version": 3
   },
   "file_extension": ".py",
   "mimetype": "text/x-python",
   "name": "python",
   "nbconvert_exporter": "python",
   "pygments_lexer": "ipython3",
   "version": "3.7.11"
  }
 },
 "nbformat": 4,
 "nbformat_minor": 2
}
