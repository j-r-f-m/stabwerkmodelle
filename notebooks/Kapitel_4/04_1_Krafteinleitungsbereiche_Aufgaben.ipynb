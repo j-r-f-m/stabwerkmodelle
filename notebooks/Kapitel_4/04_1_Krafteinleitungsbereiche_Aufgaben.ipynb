{
 "cells": [
  {
   "cell_type": "markdown",
   "metadata": {},
   "source": [
    "# Kapitel 4 - Krafteinleitungsbereiche Aufgaben"
   ]
  },
  {
   "cell_type": "code",
   "execution_count": 1,
   "metadata": {},
   "outputs": [],
   "source": [
    "# Input\n",
    "a_lager = 20 # cm\n",
    "\n"
   ]
  },
  {
   "cell_type": "code",
   "execution_count": 4,
   "metadata": {},
   "outputs": [
    {
     "name": "stdout",
     "output_type": "stream",
     "text": [
      "['c:\\\\Users\\\\donut\\\\programming\\\\python_projects\\\\stabwerkmodelle\\\\notebooks\\\\Kapitel_4', 'c:\\\\Users\\\\donut\\\\anaconda3\\\\python37.zip', 'c:\\\\Users\\\\donut\\\\anaconda3\\\\DLLs', 'c:\\\\Users\\\\donut\\\\anaconda3\\\\lib', 'c:\\\\Users\\\\donut\\\\anaconda3', '', 'c:\\\\Users\\\\donut\\\\anaconda3\\\\lib\\\\site-packages', 'c:\\\\Users\\\\donut\\\\anaconda3\\\\lib\\\\site-packages\\\\win32', 'c:\\\\Users\\\\donut\\\\anaconda3\\\\lib\\\\site-packages\\\\win32\\\\lib', 'c:\\\\Users\\\\donut\\\\anaconda3\\\\lib\\\\site-packages\\\\Pythonwin', 'c:\\\\Users\\\\donut\\\\anaconda3\\\\lib\\\\site-packages\\\\IPython\\\\extensions', 'C:\\\\Users\\\\donut\\\\.ipython', 'c:\\\\Users\\\\donut\\\\programming\\\\python_projects\\\\stabwerkmodelle\\\\src\\\\stabwerkmodelle']\n",
      "Hello from .py\n",
      "17.0\n"
     ]
    }
   ],
   "source": [
    "# test\n",
    "import sys\n",
    "\n",
    "# get current location\n",
    "print(sys.path)\n",
    "# add location of the module\n",
    "sys.path.append(\n",
    "    \"c:\\\\Users\\\\donut\\\\programming\\\\python_projects\\\\stabwerkmodelle\\\\src\\\\stabwerkmodelle\"\n",
    ")\n",
    "# import wanted module\n",
    "import mats_beton\n",
    "\n",
    "x = mats_beton.f_cd(0.85, 30, 1.5)\n",
    "y = mats_beton.hello()\n",
    "\n",
    "print(x)"
   ]
  },
  {
   "cell_type": "code",
   "execution_count": 3,
   "metadata": {},
   "outputs": [
    {
     "name": "stdout",
     "output_type": "stream",
     "text": [
      "['c:\\\\Users\\\\donut\\\\programming\\\\python_projects\\\\stabwerkmodelle\\\\notebooks\\\\Kapitel_4', 'c:\\\\Users\\\\donut\\\\anaconda3\\\\python37.zip', 'c:\\\\Users\\\\donut\\\\anaconda3\\\\DLLs', 'c:\\\\Users\\\\donut\\\\anaconda3\\\\lib', 'c:\\\\Users\\\\donut\\\\anaconda3', '', 'c:\\\\Users\\\\donut\\\\anaconda3\\\\lib\\\\site-packages', 'c:\\\\Users\\\\donut\\\\anaconda3\\\\lib\\\\site-packages\\\\win32', 'c:\\\\Users\\\\donut\\\\anaconda3\\\\lib\\\\site-packages\\\\win32\\\\lib', 'c:\\\\Users\\\\donut\\\\anaconda3\\\\lib\\\\site-packages\\\\Pythonwin', 'c:\\\\Users\\\\donut\\\\anaconda3\\\\lib\\\\site-packages\\\\IPython\\\\extensions', 'C:\\\\Users\\\\donut\\\\.ipython', 'c:\\\\Users\\\\donut\\\\programming\\\\python_projects\\\\stabwerkmodelle\\\\src\\\\stabwerkmodelle']\n"
     ]
    }
   ],
   "source": [
    "import sys\n",
    "\n",
    "print(sys.path)"
   ]
  }
 ],
 "metadata": {
  "kernelspec": {
   "display_name": "base",
   "language": "python",
   "name": "python3"
  },
  "language_info": {
   "codemirror_mode": {
    "name": "ipython",
    "version": 3
   },
   "file_extension": ".py",
   "mimetype": "text/x-python",
   "name": "python",
   "nbconvert_exporter": "python",
   "pygments_lexer": "ipython3",
   "version": "3.7.11"
  }
 },
 "nbformat": 4,
 "nbformat_minor": 2
}
